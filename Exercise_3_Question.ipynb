{
  "nbformat": 4,
  "nbformat_minor": 0,
  "metadata": {
    "colab": {
      "name": "Exercise 3 - Question.ipynb",
      "version": "0.3.2",
      "provenance": [],
      "collapsed_sections": [],
      "include_colab_link": true
    },
    "kernelspec": {
      "name": "python3",
      "display_name": "Python 3"
    },
    "accelerator": "GPU"
  },
  "cells": [
    {
      "cell_type": "markdown",
      "metadata": {
        "id": "view-in-github",
        "colab_type": "text"
      },
      "source": [
        "<a href=\"https://colab.research.google.com/github/dariushazimi/machinelearning/blob/master/Exercise_3_Question.ipynb\" target=\"_parent\"><img src=\"https://colab.research.google.com/assets/colab-badge.svg\" alt=\"Open In Colab\"/></a>"
      ]
    },
    {
      "metadata": {
        "id": "iQjHqsmTAVLU",
        "colab_type": "text"
      },
      "cell_type": "markdown",
      "source": [
        "## Exercise 3\n",
        "In the videos you looked at how you would improve Fashion MNIST using Convolutions. For your exercise see if you can improve MNIST to 99.8% accuracy or more using only a single convolutional layer and a single MaxPooling 2D. You should stop training once the accuracy goes above this amount. It should happen in less than 20 epochs, so it's ok to hard code the number of epochs for training, but your training must end once it hits the above metric. If it doesn't, then you'll need to redesign your layers.\n",
        "\n",
        "I've started the code for you -- you need to finish it!\n",
        "\n",
        "When 99.8% accuracy has been hit, you should print out the string \"Reached 99.8% accuracy so cancelling training!\"\n"
      ]
    },
    {
      "metadata": {
        "id": "sfQRyaJWAIdg",
        "colab_type": "code",
        "outputId": "13f9ddbd-b230-46f9-8020-38af9566584c",
        "colab": {
          "base_uri": "https://localhost:8080/",
          "height": 314
        }
      },
      "cell_type": "code",
      "source": [
        "import tensorflow as tf\n",
        "\n",
        "# YOUR CODE STARTS HERE\n",
        "\n",
        "# YOUR CODE ENDS HERE\n",
        "\n",
        "mnist = tf.keras.datasets.mnist\n",
        "(training_images, training_labels), (test_images, test_labels) = mnist.load_data()\n",
        "\n",
        "# YOUR CODE STARTS HERE\n",
        "training_images = training_images /255\n",
        "test_images = test_images / 255\n",
        "\n",
        "# YOUR CODE ENDS HERE\n",
        "\n",
        "model = tf.keras.models.Sequential([\n",
        "    \n",
        "    # YOUR CODE STARTS HERE\n",
        "    tf.keras.layers.Flatten(),\n",
        "    tf.keras.layers.Dense(128, activation='relu'),\n",
        "    tf.keras.layers.Dense(10, activation='softmax')\n",
        "    # YOUR CODE ENDS HERE\n",
        "])\n",
        "\n",
        "# YOUR CODE STARTS HERE\n",
        "model.compile(optimizer = 'adam', loss= 'sparse_categorical_crossentropy', metrics=['accuracy'])\n",
        "model.fit(training_images, training_labels, epochs=5)\n",
        "test_loss = model.evaluate(test_images, test_labels)\n",
        "# YOUR CODE ENDS HERE\n",
        "\n"
      ],
      "execution_count": 0,
      "outputs": [
        {
          "output_type": "stream",
          "text": [
            "Downloading data from https://storage.googleapis.com/tensorflow/tf-keras-datasets/mnist.npz\n",
            "11493376/11490434 [==============================] - 0s 0us/step\n",
            "WARNING:tensorflow:From /usr/local/lib/python3.6/dist-packages/tensorflow/python/ops/resource_variable_ops.py:435: colocate_with (from tensorflow.python.framework.ops) is deprecated and will be removed in a future version.\n",
            "Instructions for updating:\n",
            "Colocations handled automatically by placer.\n",
            "Epoch 1/5\n",
            "60000/60000 [==============================] - 10s 159us/sample - loss: 0.2589 - acc: 0.9260\n",
            "Epoch 2/5\n",
            "60000/60000 [==============================] - 8s 138us/sample - loss: 0.1130 - acc: 0.9659\n",
            "Epoch 3/5\n",
            "60000/60000 [==============================] - 8s 138us/sample - loss: 0.0776 - acc: 0.9763\n",
            "Epoch 4/5\n",
            "60000/60000 [==============================] - 8s 138us/sample - loss: 0.0594 - acc: 0.9817\n",
            "Epoch 5/5\n",
            "60000/60000 [==============================] - 8s 132us/sample - loss: 0.0449 - acc: 0.9862\n",
            "10000/10000 [==============================] - 1s 72us/sample - loss: 0.0747 - acc: 0.9765\n"
          ],
          "name": "stdout"
        }
      ]
    },
    {
      "metadata": {
        "id": "_tCIbMr_w5ip",
        "colab_type": "code",
        "outputId": "9011494c-3d6d-459b-e2b4-cf3ebeacd2d0",
        "colab": {
          "base_uri": "https://localhost:8080/",
          "height": 380
        }
      },
      "cell_type": "code",
      "source": [
        "import tensorflow as tf\n",
        "\n",
        "# YOUR CODE STARTS HERE\n",
        "# Author: Dariush Azimi\n",
        "# Last updated: March 31, 2019\n",
        "\n",
        "# YOUR CODE ENDS HERE\n",
        "class myCallback(tf.keras.callbacks.Callback):\n",
        "  def on_epoch_end(self, epoch, logs={}):\n",
        "    if(logs.get('loss')<0.01):\n",
        "      print(\"\\nReached 99% accuracy so cancelling training!\")\n",
        "      self.model.stop_training = True\n",
        "\n",
        "callbacks = myCallback()      \n",
        "\n",
        "mnist = tf.keras.datasets.mnist\n",
        "(training_images, training_labels), (test_images, test_labels) = mnist.load_data()\n",
        "\n",
        "# YOUR CODE STARTS HERE\n",
        "training_images = training_images /255\n",
        "test_images = test_images / 255\n",
        "\n",
        "# YOUR CODE ENDS HERE\n",
        "\n",
        "model = tf.keras.models.Sequential([\n",
        "    \n",
        "    # YOUR CODE STARTS HERE\n",
        "    tf.keras.layers.Flatten(),\n",
        "    tf.keras.layers.Dense(255, activation='relu'),\n",
        "    tf.keras.layers.Dense(255, activation='relu'),\n",
        "    tf.keras.layers.Dense(10, activation='softmax')\n",
        "    # YOUR CODE ENDS HERE\n",
        "])\n",
        "\n",
        "# YOUR CODE STARTS HERE\n",
        "model.compile(optimizer = 'adam', loss= 'sparse_categorical_crossentropy', metrics=['accuracy'])\n",
        "model.fit(training_images, training_labels, epochs=10, callbacks=[callbacks])\n",
        "test_loss = model.evaluate(test_images, test_labels)\n",
        "# YOUR CODE ENDS HERE\n"
      ],
      "execution_count": 0,
      "outputs": [
        {
          "output_type": "stream",
          "text": [
            "Epoch 1/10\n",
            "60000/60000 [==============================] - 10s 161us/sample - loss: 0.2012 - acc: 0.9394\n",
            "Epoch 2/10\n",
            "60000/60000 [==============================] - 10s 161us/sample - loss: 0.0864 - acc: 0.9734\n",
            "Epoch 3/10\n",
            "60000/60000 [==============================] - 9s 157us/sample - loss: 0.0568 - acc: 0.9820\n",
            "Epoch 4/10\n",
            "60000/60000 [==============================] - 9s 154us/sample - loss: 0.0443 - acc: 0.9862\n",
            "Epoch 5/10\n",
            "60000/60000 [==============================] - 10s 158us/sample - loss: 0.0346 - acc: 0.9893\n",
            "Epoch 6/10\n",
            "60000/60000 [==============================] - 10s 161us/sample - loss: 0.0289 - acc: 0.9907\n",
            "Epoch 7/10\n",
            "60000/60000 [==============================] - 10s 159us/sample - loss: 0.0256 - acc: 0.9919\n",
            "Epoch 8/10\n",
            "60000/60000 [==============================] - 10s 167us/sample - loss: 0.0225 - acc: 0.9925\n",
            "Epoch 9/10\n",
            "60000/60000 [==============================] - 11s 182us/sample - loss: 0.0193 - acc: 0.9940\n",
            "Epoch 10/10\n",
            "60000/60000 [==============================] - 10s 167us/sample - loss: 0.0180 - acc: 0.9945\n",
            "10000/10000 [==============================] - 1s 83us/sample - loss: 0.0857 - acc: 0.9815\n"
          ],
          "name": "stdout"
        }
      ]
    },
    {
      "metadata": {
        "id": "nGugGiMNxQ4v",
        "colab_type": "code",
        "outputId": "3c464b63-5d40-466f-fe4c-f8949c97448b",
        "colab": {
          "base_uri": "https://localhost:8080/",
          "height": 417
        }
      },
      "cell_type": "code",
      "source": [
        "import tensorflow as tf\n",
        "\n",
        "# YOUR CODE STARTS HERE\n",
        "# Author: Dariush Azimi\n",
        "# Last updated: March 31, 2019\n",
        "# Using callbacks to stop epochs when reaching 99% accuracy\n",
        "\n",
        "\n",
        "# YOUR CODE ENDS HERE\n",
        "class myCallback(tf.keras.callbacks.Callback):\n",
        "  def on_epoch_end(self, epoch, logs={}):\n",
        "    if(logs.get('loss')<0.0289):\n",
        "      print(\"\\nReached 99% accuracy so cancelling training!\")\n",
        "      self.model.stop_training = True\n",
        "\n",
        "callbacks = myCallback()      \n",
        "\n",
        "mnist = tf.keras.datasets.mnist\n",
        "(training_images, training_labels), (test_images, test_labels) = mnist.load_data()\n",
        "\n",
        "# YOUR CODE STARTS HERE\n",
        "training_images = training_images /255\n",
        "test_images = test_images / 255\n",
        "\n",
        "# YOUR CODE ENDS HERE\n",
        "\n",
        "model = tf.keras.models.Sequential([\n",
        "    \n",
        "    # YOUR CODE STARTS HERE\n",
        "    tf.keras.layers.Flatten(),\n",
        "    tf.keras.layers.Dense(255, activation='relu'),\n",
        "    tf.keras.layers.Dense(255, activation='relu'),\n",
        "    tf.keras.layers.Dense(255, activation='relu'),\n",
        "    tf.keras.layers.Dense(10, activation='softmax')\n",
        "    # YOUR CODE ENDS HERE\n",
        "])\n",
        "\n",
        "# YOUR CODE STARTS HERE\n",
        "model.compile(optimizer = 'adam', loss= 'sparse_categorical_crossentropy', metrics=['accuracy'])\n",
        "model.fit(training_images, training_labels, epochs=10, callbacks=[callbacks])\n",
        "test_loss = model.evaluate(test_images, test_labels)\n",
        "# YOUR CODE ENDS HERE\n"
      ],
      "execution_count": 0,
      "outputs": [
        {
          "output_type": "stream",
          "text": [
            "WARNING:tensorflow:From /usr/local/lib/python3.6/dist-packages/tensorflow/python/ops/resource_variable_ops.py:435: colocate_with (from tensorflow.python.framework.ops) is deprecated and will be removed in a future version.\n",
            "Instructions for updating:\n",
            "Colocations handled automatically by placer.\n",
            "Epoch 1/10\n",
            "60000/60000 [==============================] - 12s 206us/sample - loss: 0.2036 - acc: 0.9378\n",
            "Epoch 2/10\n",
            "60000/60000 [==============================] - 11s 187us/sample - loss: 0.0906 - acc: 0.9719\n",
            "Epoch 3/10\n",
            "60000/60000 [==============================] - 11s 186us/sample - loss: 0.0668 - acc: 0.9789\n",
            "Epoch 4/10\n",
            "60000/60000 [==============================] - 11s 185us/sample - loss: 0.0523 - acc: 0.9832\n",
            "Epoch 5/10\n",
            "60000/60000 [==============================] - 11s 179us/sample - loss: 0.0409 - acc: 0.9875\n",
            "Epoch 6/10\n",
            "60000/60000 [==============================] - 11s 177us/sample - loss: 0.0358 - acc: 0.9890\n",
            "Epoch 7/10\n",
            "60000/60000 [==============================] - 11s 178us/sample - loss: 0.0306 - acc: 0.9904\n",
            "Epoch 8/10\n",
            "59776/60000 [============================>.] - ETA: 0s - loss: 0.0262 - acc: 0.9921\n",
            "Reached 99% accuracy so cancelling training!\n",
            "60000/60000 [==============================] - 11s 179us/sample - loss: 0.0262 - acc: 0.9921\n",
            "10000/10000 [==============================] - 1s 80us/sample - loss: 0.0790 - acc: 0.9800\n"
          ],
          "name": "stdout"
        }
      ]
    },
    {
      "metadata": {
        "id": "qwQQusKnzmdD",
        "colab_type": "code",
        "outputId": "ff76605b-0dda-4251-ebbb-65f89c1c3fdb",
        "colab": {
          "base_uri": "https://localhost:8080/",
          "height": 311
        }
      },
      "cell_type": "code",
      "source": [
        "import tensorflow as tf\n",
        "\n",
        "# YOUR CODE STARTS HERE\n",
        "# Author: Dariush Azimi\n",
        "# Last updated: March 31, 2019\n",
        "# Using callbacks to stop epochs when reaching 99% accuracy\n",
        "\n",
        "\n",
        "# YOUR CODE ENDS HERE\n",
        "class myCallback(tf.keras.callbacks.Callback):\n",
        "  def on_epoch_end(self, epoch, logs={}):\n",
        "    if(logs.get('loss')<0.0289):\n",
        "      print(\"\\nReached 99% accuracy so cancelling training!\")\n",
        "      self.model.stop_training = True\n",
        "\n",
        "callbacks = myCallback()      \n",
        "\n",
        "mnist = tf.keras.datasets.mnist\n",
        "(training_images, training_labels), (test_images, test_labels) = mnist.load_data()\n",
        "\n",
        "# YOUR CODE STARTS HERE\n",
        "training_images = training_images /255\n",
        "test_images = test_images / 255\n",
        "\n",
        "# YOUR CODE ENDS HERE\n",
        "\n",
        "model = tf.keras.models.Sequential([\n",
        "    \n",
        "    # YOUR CODE STARTS HERE\n",
        "    tf.keras.layers.Flatten(),\n",
        "    tf.keras.layers.Dense(255, activation='relu'),\n",
        "    tf.keras.layers.Dense(128, activation='relu'),\n",
        "    tf.keras.layers.Dense(10, activation='softmax')\n",
        "    # YOUR CODE ENDS HERE\n",
        "])\n",
        "\n",
        "# YOUR CODE STARTS HERE\n",
        "model.compile(optimizer = 'adam', loss= 'sparse_categorical_crossentropy', metrics=['accuracy'])\n",
        "model.fit(training_images, training_labels, epochs=10, callbacks=[callbacks])\n",
        "test_loss = model.evaluate(test_images, test_labels)\n",
        "# YOUR CODE ENDS HERE\n"
      ],
      "execution_count": 0,
      "outputs": [
        {
          "output_type": "stream",
          "text": [
            "Epoch 1/10\n",
            "60000/60000 [==============================] - 10s 165us/sample - loss: 0.2086 - acc: 0.9375\n",
            "Epoch 2/10\n",
            "60000/60000 [==============================] - 10s 171us/sample - loss: 0.0840 - acc: 0.9738\n",
            "Epoch 3/10\n",
            "60000/60000 [==============================] - 10s 170us/sample - loss: 0.0578 - acc: 0.9819\n",
            "Epoch 4/10\n",
            "60000/60000 [==============================] - 10s 165us/sample - loss: 0.0427 - acc: 0.9857\n",
            "Epoch 5/10\n",
            "60000/60000 [==============================] - 9s 157us/sample - loss: 0.0344 - acc: 0.9889\n",
            "Epoch 6/10\n",
            "60000/60000 [==============================] - 10s 159us/sample - loss: 0.0300 - acc: 0.9901\n",
            "Epoch 7/10\n",
            "59904/60000 [============================>.] - ETA: 0s - loss: 0.0225 - acc: 0.9921\n",
            "Reached 99% accuracy so cancelling training!\n",
            "60000/60000 [==============================] - 10s 160us/sample - loss: 0.0225 - acc: 0.9921\n",
            "10000/10000 [==============================] - 1s 86us/sample - loss: 0.0859 - acc: 0.9787\n"
          ],
          "name": "stdout"
        }
      ]
    },
    {
      "metadata": {
        "id": "7-1UmJFK0I6h",
        "colab_type": "code",
        "colab": {}
      },
      "cell_type": "code",
      "source": [
        ""
      ],
      "execution_count": 0,
      "outputs": []
    }
  ]
}